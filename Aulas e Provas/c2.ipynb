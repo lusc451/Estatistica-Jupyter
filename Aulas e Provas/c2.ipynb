{
 "cells": [
  {
   "cell_type": "code",
   "execution_count": 1,
   "metadata": {},
   "outputs": [
    {
     "name": "stdout",
     "output_type": "stream",
     "text": [
      "Valor mínimo: 19\n",
      "Valor máximo: 24\n",
      "Probabilidade de um valor estar entre 20 e 23: 60.00%\n"
     ]
    }
   ],
   "source": [
    "import numpy as np\n",
    "\n",
    "def calculate_uniform_probability(data, a, b):\n",
    "    # Calcula o valor mínimo e máximo dos dados (limites da distribuição uniforme)\n",
    "    min_val = np.min(data)\n",
    "    max_val = np.max(data)\n",
    "    \n",
    "    # Verifica se os limites fornecidos estão dentro do intervalo da distribuição uniforme\n",
    "    if a < min_val or b > max_val or a > b:\n",
    "        raise ValueError(\"Os limites fornecidos estão fora do intervalo da distribuição ou são inválidos.\")\n",
    "    \n",
    "    # A probabilidade de um valor estar entre a e b na distribuição uniforme\n",
    "    probability_between = (b - a) / (max_val - min_val)\n",
    "    \n",
    "    return min_val, max_val, probability_between\n",
    "\n",
    "def main():\n",
    "    # Dados de exemplo\n",
    "    data = [22, 23, 21, 20, 19, 24, 23, 21, 22, 23]\n",
    "    a = 20  # Limite inferior\n",
    "    b = 23  # Limite superior\n",
    "\n",
    "    min_val, max_val, probability_between = calculate_uniform_probability(data, a, b)\n",
    "\n",
    "    print(f\"Valor mínimo: {min_val}\")\n",
    "    print(f\"Valor máximo: {max_val}\")\n",
    "    print(f\"Probabilidade de um valor estar entre {a} e {b}: {probability_between * 100:.2f}%\")\n",
    "\n",
    "if __name__ == \"__main__\":\n",
    "    main()\n"
   ]
  }
 ],
 "metadata": {
  "kernelspec": {
   "display_name": "Python 3",
   "language": "python",
   "name": "python3"
  },
  "language_info": {
   "codemirror_mode": {
    "name": "ipython",
    "version": 3
   },
   "file_extension": ".py",
   "mimetype": "text/x-python",
   "name": "python",
   "nbconvert_exporter": "python",
   "pygments_lexer": "ipython3",
   "version": "3.12.0"
  }
 },
 "nbformat": 4,
 "nbformat_minor": 2
}
