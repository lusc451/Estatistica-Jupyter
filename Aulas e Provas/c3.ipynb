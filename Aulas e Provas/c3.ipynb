{
 "cells": [
  {
   "cell_type": "code",
   "execution_count": 1,
   "metadata": {},
   "outputs": [
    {
     "name": "stdout",
     "output_type": "stream",
     "text": [
      "A probabilidade de exatamente 2 peças serem defeituosas em uma amostra de 10 peças é 23.30%\n"
     ]
    }
   ],
   "source": [
    "from scipy.stats import binom\n",
    "\n",
    "# Dados do problema\n",
    "n = 10  # Número de peças na amostra\n",
    "p = 0.12  # Probabilidade de uma peça ser defeituosa\n",
    "k = 2  # Número de peças defeituosas desejadas\n",
    "\n",
    "# Calcula a probabilidade de exatamente 2 peças serem defeituosas\n",
    "probability = binom.pmf(k, n, p)\n",
    "\n",
    "print(f\"A probabilidade de exatamente {k} peças serem defeituosas em uma amostra de {n} peças é {probability * 100:.2f}%\")\n"
   ]
  }
 ],
 "metadata": {
  "kernelspec": {
   "display_name": "Python 3",
   "language": "python",
   "name": "python3"
  },
  "language_info": {
   "codemirror_mode": {
    "name": "ipython",
    "version": 3
   },
   "file_extension": ".py",
   "mimetype": "text/x-python",
   "name": "python",
   "nbconvert_exporter": "python",
   "pygments_lexer": "ipython3",
   "version": "3.12.0"
  }
 },
 "nbformat": 4,
 "nbformat_minor": 2
}
