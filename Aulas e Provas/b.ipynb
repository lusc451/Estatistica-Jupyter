{
 "cells": [
  {
   "cell_type": "code",
   "execution_count": 4,
   "metadata": {},
   "outputs": [
    {
     "data": {
      "text/plain": [
       "(16.983333333333334, (16.458465942824343, 17.508200723842325))"
      ]
     },
     "execution_count": 4,
     "metadata": {},
     "output_type": "execute_result"
    }
   ],
   "source": [
    "import numpy as np\n",
    "from scipy import stats\n",
    "\n",
    "# Dados de exemplo\n",
    "data = [16.8, 17.2, 17.4, 16.9, 16.5, 17.1]\n",
    "\n",
    "# Calcule a média e o desvio padrão da amostra\n",
    "mean = np.mean(data)\n",
    "std_dev = np.std(data, ddof=1)  # ddof=1 para usar o desvio padrão amostral\n",
    "n = len(data)\n",
    "\n",
    "# Nível de confiança\n",
    "confidence = 0.99\n",
    "\n",
    "# Calcule o intervalo de confiança\n",
    "h = std_dev * stats.t.ppf((1 + confidence) / 2, n - 1) / np.sqrt(n)\n",
    "interval = (mean - h, mean + h)\n",
    "\n",
    "mean, interval\n"
   ]
  }
 ],
 "metadata": {
  "kernelspec": {
   "display_name": "Python 3",
   "language": "python",
   "name": "python3"
  },
  "language_info": {
   "codemirror_mode": {
    "name": "ipython",
    "version": 3
   },
   "file_extension": ".py",
   "mimetype": "text/x-python",
   "name": "python",
   "nbconvert_exporter": "python",
   "pygments_lexer": "ipython3",
   "version": "3.12.0"
  }
 },
 "nbformat": 4,
 "nbformat_minor": 2
}
