{
 "cells": [
  {
   "cell_type": "code",
   "execution_count": null,
   "metadata": {},
   "outputs": [],
   "source": [
    "import pandas as pd\n",
    "\n",
    "# Extração: Carregar os dados do arquivo CSV\n",
    "dados = pd.read_csv('animes.csv')\n",
    "\n",
    "# Transformação: Limpeza e manipulação dos dados\n",
    "\n",
    "# 1. Tratamento de valores nulos\n",
    "# Substituindo valores nulos por 0 em colunas numéricas\n",
    "num_cols = dados.select_dtypes(include=['float64', 'int64']).columns\n",
    "dados[num_cols] = dados[num_cols].fillna(0)\n",
    "\n",
    "# Substituindo valores nulos por 'Desconhecido' em colunas categóricas\n",
    "cat_cols = dados.select_dtypes(include=['object']).columns\n",
    "dados[cat_cols] = dados[cat_cols].fillna('Desconhecido')\n",
    "\n",
    "# 2. Normalização de tipos de dados\n",
    "# Converter a coluna 'rate' para float, se não for\n",
    "if dados['rate'].dtype != 'float':\n",
    "    dados['rate'] = dados['rate'].astype(float)\n",
    "\n",
    "# 3. Criação de novas colunas\n",
    "# Adicionando uma coluna de classificação baseada na taxa\n",
    "bins = [0, 2, 4, 6, 8, 10]\n",
    "labels = ['Muito Ruim', 'Ruim', 'Médio', 'Bom', 'Excelente']\n",
    "dados['classification'] = pd.cut(dados['rate'], bins=bins, labels=labels)\n",
    "\n",
    "# Carregamento: Exportar os dados transformados para um arquivo CSV\n",
    "\n",
    "dados.to_csv('dados_tratados_para_power_bi.csv', index=False)\n",
    "\n",
    "# Informar que o processo foi completado com sucesso\n",
    "print(\"Dados exportados com sucesso para 'dados_tratados_para_power_bi.csv'. Prontos para serem usados no Power BI.\")\n"
   ]
  }
 ],
 "metadata": {
  "language_info": {
   "name": "python"
  }
 },
 "nbformat": 4,
 "nbformat_minor": 2
}
